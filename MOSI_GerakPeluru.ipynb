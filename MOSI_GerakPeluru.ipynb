{
  "nbformat": 4,
  "nbformat_minor": 0,
  "metadata": {
    "colab": {
      "name": "MOSI_GerakPeluru.ipynb",
      "provenance": [],
      "collapsed_sections": []
    },
    "kernelspec": {
      "name": "python3",
      "display_name": "Python 3"
    }
  },
  "cells": [
    {
      "cell_type": "code",
      "metadata": {
        "id": "58vk5QaqZco1",
        "colab_type": "code",
        "colab": {}
      },
      "source": [
        "import matplotlib.pyplot as plt\n",
        "import math\n",
        "import numpy as np"
      ],
      "execution_count": 0,
      "outputs": []
    },
    {
      "cell_type": "code",
      "metadata": {
        "id": "MrMzkxtVZgYs",
        "colab_type": "code",
        "colab": {}
      },
      "source": [
        "def analitical(v,teta):\n",
        "  \n",
        "  t_total = (2 * v * math.sin(math.radians(teta)))/9.8\n",
        "  t_arr = np.arange(0,t_total, 0.01)\n",
        "\n",
        "  x = v * math.cos(math.radians(teta)) * t_total\n",
        "  x_arr = v * t_arr * math.cos(math.radians(teta))\n",
        "\n",
        "  y = v**2 * (math.sin(math.radians(teta)))**2/(2*-9.8)\n",
        "  y_arr = v * t_arr * math.sin(math.radians(teta)) - (1/2 * 9.8 * (t_arr)**2)\n",
        "\n",
        "  return x_arr, y_arr, t_total"
      ],
      "execution_count": 0,
      "outputs": []
    },
    {
      "cell_type": "code",
      "metadata": {
        "id": "7m7jVBZaZiH7",
        "colab_type": "code",
        "colab": {}
      },
      "source": [
        "def numerik_tanpa_hambatanudara(v,teta, time_step):\n",
        "  x_arr = []\n",
        "  y_arr = []\n",
        "  t = 0\n",
        "  x = 0\n",
        "  y = 0\n",
        "  a = -9.8\n",
        "\n",
        "  vx = v * math.cos(math.radians(teta))\n",
        "  vy = v * math.sin(math.radians(teta))\n",
        "\n",
        "  while 1:\n",
        "    x_arr.append(x)\n",
        "    y_arr.append(y)\n",
        "    t += time_step\n",
        "\n",
        "    vy = vy + (a*time_step)\n",
        "\n",
        "    x = x + (vx*time_step)\n",
        "    y = y + (vy*time_step)\n",
        "\n",
        "    if( y < 0):\n",
        "      break\n",
        "  \n",
        "  return x_arr,y_arr"
      ],
      "execution_count": 0,
      "outputs": []
    },
    {
      "cell_type": "code",
      "metadata": {
        "id": "nx5_3wh5ZilY",
        "colab_type": "code",
        "colab": {}
      },
      "source": [
        "def numerik_dengan_gesekanudara(v, teta, time_step):\n",
        "  x_arr = []\n",
        "  y_arr = []\n",
        "  t = 0\n",
        "  x = 0\n",
        "  y = 0\n",
        "  D = 0.0013\n",
        "  m = 0.15\n",
        "  g = 9.8\n",
        "  \n",
        "  vx = v * math.cos(math.radians(teta))\n",
        "  vy = v * math.sin(math.radians(teta))\n",
        "\n",
        "  ax = -(D/m)*v*vx\n",
        "  ay = -g - (D/m)*v*vy\n",
        "\n",
        "  while 1:\n",
        "    x_arr.append(x)\n",
        "    y_arr.append(y)\n",
        "    t += time_step\n",
        "\n",
        "    vx = vx + (ax*time_step)\n",
        "    vy = vy + (ay*time_step)\n",
        "\n",
        "    v = ((vx**2)+(vy**2))**(1/2)\n",
        "\n",
        "    x = x + (vx*time_step)\n",
        "    y = y + (vy*time_step)\n",
        "\n",
        "    ax = -(D/m)*v*vx\n",
        "    ay = -g - (D/m)*v*vy\n",
        "\n",
        "    if( y < 0):\n",
        "      break\n",
        "  \n",
        "  return x_arr,y_arr"
      ],
      "execution_count": 0,
      "outputs": []
    },
    {
      "cell_type": "code",
      "metadata": {
        "id": "CFIlWsCpZlou",
        "colab_type": "code",
        "colab": {}
      },
      "source": [
        "x_arr, y_arr, ttot = analitical(50,35)\n",
        "x,y = numerik_tanpa_hambatanudara(50,35,0.01)\n",
        "a,b = numerik_dengan_gesekanudara(50,35,0.01)"
      ],
      "execution_count": 0,
      "outputs": []
    },
    {
      "cell_type": "code",
      "metadata": {
        "id": "kfxVf3uyZqBA",
        "colab_type": "code",
        "outputId": "01eb66d7-1604-471c-a526-d3882bc065c8",
        "colab": {
          "base_uri": "https://localhost:8080/",
          "height": 282
        }
      },
      "source": [
        "plt.plot(x_arr,y_arr)\n",
        "plt.plot(x,y)\n",
        "plt.plot(a,b)"
      ],
      "execution_count": 0,
      "outputs": [
        {
          "output_type": "execute_result",
          "data": {
            "text/plain": [
              "[<matplotlib.lines.Line2D at 0x7f4750f77cf8>]"
            ]
          },
          "metadata": {
            "tags": []
          },
          "execution_count": 31
        },
        {
          "output_type": "display_data",
          "data": {
            "image/png": "[encoded data removed]",
            "text/plain": [
              "<Figure size 432x288 with 1 Axes>"
            ]
          },
          "metadata": {
            "tags": []
          }
        }
      ]
    },
    {
      "cell_type": "code",
      "metadata": {
        "id": "TvWwb2i2ZuLu",
        "colab_type": "code",
        "colab": {}
      },
      "source": [
        ""
      ],
      "execution_count": 0,
      "outputs": []
    }
  ]
}